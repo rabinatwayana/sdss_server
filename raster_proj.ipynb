{
 "cells": [
  {
   "cell_type": "code",
   "execution_count": null,
   "metadata": {},
   "outputs": [],
   "source": [
    "# mamba install pyproj"
   ]
  },
  {
   "cell_type": "code",
   "execution_count": 1,
   "metadata": {},
   "outputs": [],
   "source": [
    "import rasterio\n",
    "import numpy as np\n",
    "from pyproj import CRS, Transformer\n",
    "from rasterio.warp import calculate_default_transform, Resampling,reproject\n",
    "from pyproj.database import query_utm_crs_info\n",
    "from pyproj.aoi import AreaOfInterest"
   ]
  },
  {
   "cell_type": "code",
   "execution_count": 2,
   "metadata": {},
   "outputs": [],
   "source": [
    "file_path=\"/home/rabina/Projects/sdss_conda/data/gridded_ear_exposure_AUS/input/LC_HAZ_DUMMY_Australia.tif\"\n",
    "out_path=\"/home/rabina/Projects/sdss_conda/data/gridded_ear_exposure_AUS/output/LC_HAZ_DUMMY_AUS_UTM.tif\""
   ]
  },
  {
   "cell_type": "code",
   "execution_count": 4,
   "metadata": {},
   "outputs": [],
   "source": [
    "def is_utm_epsg(epsg_code):\n",
    "    try:\n",
    "        crs = CRS.from_epsg(epsg_code)\n",
    "        return crs.coordinate_operation.method_name == \"Transverse Mercator\"\n",
    "    except Exception as e:\n",
    "        return False\n",
    "\n",
    "\n",
    "def utm_finder(src_crs,bbox=[]):\n",
    "    try:\n",
    "        \"\"\"\n",
    "        Find UTM epsg\n",
    "        raster: input raster path\n",
    "        Returns:\n",
    "        UTM EPSG code of the input raster\n",
    "        \"\"\"\n",
    "        # with rasterio.open(raster_file_path) as dataset:  \n",
    "            # src_epsg=dataset.crs.to_epsg()\n",
    "            # bbox  = dataset.bounds\n",
    "        bbox_wgs84 = rasterio.warp.transform_bounds(src_crs,'EPSG:4326', bbox[0],bbox[1],bbox[2],bbox[3])\n",
    "        utm_crs_list = query_utm_crs_info(     \n",
    "            datum_name='WGS 84',\n",
    "            area_of_interest= AreaOfInterest(\n",
    "            west_lon_degree=bbox_wgs84[0],\n",
    "            south_lat_degree=bbox_wgs84[1],\n",
    "            east_lon_degree=bbox_wgs84[2],\n",
    "            north_lat_degree=bbox_wgs84[3],),) \n",
    "\n",
    "        # utm_crs = '{}:{}'.format(utm_crs_list[0].auth_name,utm_crs_list[0].code)\n",
    "        utm_epsg = utm_crs_list[0].code\n",
    "        print(utm_epsg,\"utm_epsg\")\n",
    "        return True,utm_epsg\n",
    "    except Exception as e:\n",
    "        return False, str(e)"
   ]
  },
  {
   "cell_type": "code",
   "execution_count": 5,
   "metadata": {},
   "outputs": [
    {
     "name": "stdout",
     "output_type": "stream",
     "text": [
      "3857\n",
      "False\n",
      "32749 utm_epsg\n"
     ]
    }
   ],
   "source": [
    "ds = rasterio.open(file_path)\n",
    "#check raster crs and reproject if necessary\n",
    "ds_crs_epsg=ds.crs.to_epsg()\n",
    "is_UTM_epsg=is_utm_epsg(ds_crs_epsg)\n",
    "\n",
    "print(ds_crs_epsg)\n",
    "print(is_UTM_epsg)\n",
    "\n",
    "if not is_UTM_epsg:\n",
    "    bbox  = ds.bounds\n",
    "    success,dst_utm_epsg=utm_finder(ds_crs_epsg,bbox)\n",
    "    if not success:\n",
    "        error=str(dst_utm_epsg)\n",
    "    src_crs=CRS.from_epsg(ds_crs_epsg) \n",
    "    dst_crs = CRS.from_epsg(dst_utm_epsg) \n",
    "    transformer=Transformer.from_crs(src_crs,dst_crs)\n",
    "    dst_transform, width, height = calculate_default_transform(\n",
    "        src_crs.to_string(), dst_crs.to_string(), ds.width, ds.height, *ds.bounds\n",
    "    )\n",
    "    kwargs = ds.meta.copy()\n",
    "    kwargs.update({\n",
    "                'crs': dst_crs.to_string(),\n",
    "                'transform': dst_transform,\n",
    "                'width': width,\n",
    "                'height': height})\n",
    "    with rasterio.open(out_path, 'w', **kwargs) as dst:\n",
    "        for i in range(1, ds.count + 1):\n",
    "            reproject(\n",
    "                source=rasterio.band(ds, i),\n",
    "                destination=rasterio.band(dst, i),\n",
    "                src_transform=ds.transform,\n",
    "                src_crs=src_crs.to_string(),\n",
    "                dst_transform=dst_transform,\n",
    "                dst_crs=dst_crs.to_string(),\n",
    "                resampling=Resampling.nearest)\n",
    "    ds.close()\n",
    "    dst.close()\n",
    "    # ds = rasterio.open(instance.file.path)"
   ]
  },
  {
   "attachments": {},
   "cell_type": "markdown",
   "metadata": {},
   "source": [
    "END"
   ]
  },
  {
   "cell_type": "code",
   "execution_count": null,
   "metadata": {},
   "outputs": [],
   "source": [
    "# file_path='/Users/rabina/Projects/sdss/sdss_conda/data/FL_DE_50_A0.tif'\n",
    "# out_path='/Users/rabina/Projects/sdss/sdss_conda/data/FL_DE_50_A0.tif'\n",
    "file_path=\"/Users/rabina/Projects/sdss/sdss_conda/data/ear_raster/output/lc_romania_reclassified.tif\"\n",
    "out_path=\"/Users/rabina/Projects/sdss/sdss_conda/data/ear_raster/output/lc_romania_reclassified.tif\"\n",
    "ds = rasterio.open(file_path)\n",
    "src_crs=ds.crs\n",
    "print(src_crs.to_epsg())\n",
    "if src_crs!=4326:\n",
    "    print(\"not equal\")\n",
    "    # crs_4326 = CRS.from_epsg(4326) \n",
    "    crs_4326 = CRS(\n",
    "        proj='longlat',\n",
    "        datum='WGS84',\n",
    "        unit='metre'\n",
    "    )\n",
    "\n",
    "    transformer=Transformer.from_crs(src_crs,crs_4326)\n",
    "    dst_transform, width, height = calculate_default_transform(\n",
    "        src_crs, crs_4326, ds.width, ds.height, *ds.bounds\n",
    "    )\n",
    "    # print(src_crs)\n",
    "    kwargs = ds.meta.copy()\n",
    "    kwargs.update({\n",
    "                'crs': crs_4326,\n",
    "                'transform': dst_transform,\n",
    "                'width': width,\n",
    "                'height': height})\n",
    "\n",
    "    with rasterio.open(out_path, 'w', **kwargs) as dst:\n",
    "        for i in range(1, ds.count + 1):\n",
    "            reproject(\n",
    "                source=rasterio.band(ds, i),\n",
    "                destination=rasterio.band(dst, i),\n",
    "                src_transform=ds.transform,\n",
    "                src_crs=ds.crs,\n",
    "                dst_transform=dst_transform,\n",
    "                dst_crs=crs_4326,\n",
    "                resampling=Resampling.nearest)"
   ]
  },
  {
   "cell_type": "code",
   "execution_count": null,
   "metadata": {},
   "outputs": [],
   "source": [
    "print(crs_4326.to_wkt())"
   ]
  },
  {
   "attachments": {},
   "cell_type": "markdown",
   "metadata": {},
   "source": [
    "END"
   ]
  },
  {
   "cell_type": "code",
   "execution_count": null,
   "metadata": {},
   "outputs": [],
   "source": [
    "crs_4326 = CRS.from_epsg(4326) \n",
    "transformer=Transformer.from_crs(src_crs,crs_4326)\n",
    "dst_transform, width, height = calculate_default_transform(\n",
    "    src_crs, crs_4326, ds.width, ds.height, *ds.bounds\n",
    ")\n",
    "print(width,height)"
   ]
  },
  {
   "cell_type": "code",
   "execution_count": null,
   "metadata": {},
   "outputs": [],
   "source": [
    "crs_4326_data = ds.read(\n",
    "    out_shape=(ds.count, height, width),\n",
    "    resampling=Resampling.nearest,\n",
    ")"
   ]
  },
  {
   "cell_type": "code",
   "execution_count": null,
   "metadata": {},
   "outputs": [],
   "source": []
  }
 ],
 "metadata": {
  "kernelspec": {
   "display_name": "Python 3",
   "language": "python",
   "name": "python3"
  },
  "language_info": {
   "codemirror_mode": {
    "name": "ipython",
    "version": 3
   },
   "file_extension": ".py",
   "mimetype": "text/x-python",
   "name": "python",
   "nbconvert_exporter": "python",
   "pygments_lexer": "ipython3",
   "version": "3.10.0"
  },
  "orig_nbformat": 4,
  "vscode": {
   "interpreter": {
    "hash": "916dbcbb3f70747c44a77c7bcd40155683ae19c65e1c03b4aa3499c5328201f1"
   }
  }
 },
 "nbformat": 4,
 "nbformat_minor": 2
}
