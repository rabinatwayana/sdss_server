{
 "cells": [
  {
   "cell_type": "code",
   "execution_count": 1,
   "metadata": {},
   "outputs": [],
   "source": [
    "import rasterio\n",
    "import numpy as np\n",
    "from rasterio.enums import Resampling\n",
    "import os\n",
    "from rasterio.coords import disjoint_bounds\n",
    "from rasterio.transform import from_origin\n",
    "from rasterio.windows import Window\n",
    "from collections import Counter\n",
    "import pandas as pd"
   ]
  },
  {
   "attachments": {},
   "cell_type": "markdown",
   "metadata": {},
   "source": [
    "## Procedure\n",
    "CRS\n",
    "\n",
    "RESAMPLE\n",
    "\n",
    "HAZARD CLASSIFICATION\n",
    "\n",
    "EAR RECLASSIFICATION IF REQUIRED\n",
    "\n",
    "FIND INTERSECTING PART AND MANAGE EXTENT"
   ]
  },
  {
   "attachments": {},
   "cell_type": "markdown",
   "metadata": {},
   "source": [
    "## RiskChanges Library\n"
   ]
  },
  {
   "cell_type": "code",
   "execution_count": 2,
   "metadata": {},
   "outputs": [],
   "source": [
    "def reclassify(in_image, out_image, base, stepsize, maxval):\n",
    "    input_image = rasterio.open(in_image)\n",
    "    intensity_data = input_image.read(1)\n",
    "\n",
    "    prev = base\n",
    "    thresholds = np.arange(start=base, stop=maxval+1, step=stepsize).tolist()\n",
    "    intensity_data[intensity_data < base] = input_image.nodata\n",
    "    intensity_data_classified = np.copy(intensity_data)\n",
    "\n",
    "    for i, threshold in enumerate(thresholds):\n",
    "        #mean=intensity_data[((intensity_data<threshold) & (intensity_data>=prev))].mean()\n",
    "\n",
    "        intensity_data_classified[(\n",
    "            (intensity_data < threshold) & (intensity_data >= prev))] = i\n",
    "\n",
    "        prev = threshold\n",
    "\n",
    "        # if it is the last value, need to assign the max class for all result\n",
    "        if threshold == thresholds[-1]:\n",
    "            intensity_data_classified[(\n",
    "                intensity_data >= thresholds[-1])] = i\n",
    "    # print(intensity_data_classified)\n",
    "\n",
    "    with rasterio.Env():\n",
    "        profile = input_image.profile\n",
    "        with rasterio.open(out_image, 'w', **profile) as dst:\n",
    "            dst.write(intensity_data_classified, 1)\n",
    "        dst = None\n",
    "    input_image = None\n",
    "    \n",
    "def ClassifyHazard(hazard_file, base, stepsize, threshold):\n",
    "    infile = hazard_file\n",
    "    outfile = hazard_file.replace(\".tif\", \"_reclassified.tif\")\n",
    "    if os.path.isfile(outfile):\n",
    "        pass\n",
    "    else:\n",
    "        reclassify(infile, outfile, base, stepsize, threshold)\n",
    "    return outfile\n",
    "\n",
    "\n",
    "def readhaz(hazfile_path, base,step_size,threshold):\n",
    "    outfile = ClassifyHazard(hazfile_path, base, step_size, threshold)\n",
    "    src = rasterio.open(outfile)\n",
    "    return src"
   ]
  },
  {
   "cell_type": "markdown",
   "metadata": {},
   "source": [
    "## Execute Raster Projection\n",
    "Refer to raster_proj.ipynb "
   ]
  },
  {
   "attachments": {},
   "cell_type": "markdown",
   "metadata": {},
   "source": [
    "## Re-assign pixel value"
   ]
  },
  {
   "cell_type": "code",
   "execution_count": null,
   "metadata": {},
   "outputs": [],
   "source": [
    "input_file_path=\"/home/rabina/Projects/sdss_conda/data/gridded_ear_exposure/output/LandCover_ROU_UTM.tif\"\n",
    "output_file_path=\"/home/rabina/Projects/sdss_conda/data/gridded_ear_exposure/output/LandCover_ROU_UTM_classified.tif\"\n",
    "\n",
    "# input_file_path=\"/home/rabina/Projects/sdss_conda/data/gridded_ear_exposure_AUS/output/LC_AUS_UTM.tif\"\n",
    "# output_file_path=\"/home/rabina/Projects/sdss_conda/data/gridded_ear_exposure_AUS/output/LC_AUS_UTM_classified.tif\""
   ]
  },
  {
   "cell_type": "code",
   "execution_count": null,
   "metadata": {},
   "outputs": [],
   "source": [
    "reassign_value_dict={\n",
    "    111:1,112:1,121:1,122:1,123:1,124:1,131:1,132:1,133:1,141:1,142:1,\n",
    "    211:2,212:2,213:2,221:2,222:2,223:2,231:2,241:2,242:2,243:2,244:2,\n",
    "    311:3,312:3,313:3,321:3,322:3,323:3,324:3,331:3,332:3,333:3,334:3,335:3,\n",
    "    411:4,412:4,421:4,422:4,423:4,511:5,512:5,521:5,522:5,523:5}\n",
    "# source:https://developers.google.com/earth-engine/datasets/catalog/COPERNICUS_CORINE_V20_100m#bands\n",
    "#1=artificial surface\n",
    "#2=agriculture\n",
    "#3=forest\n",
    "#4=wetland\n",
    "#5=waterbodies"
   ]
  },
  {
   "cell_type": "code",
   "execution_count": null,
   "metadata": {},
   "outputs": [],
   "source": [
    "ear_raster=rasterio.open(input_file_path)\n",
    "src_crs=ear_raster.crs\n",
    "no_of_bands=ear_raster.count\n",
    "print(f\"no of band: {no_of_bands}\")"
   ]
  },
  {
   "cell_type": "code",
   "execution_count": null,
   "metadata": {},
   "outputs": [],
   "source": [
    "ear_raster_band_1=ear_raster.read(1)\n",
    "unique_band_values=np.unique(ear_raster_band_1)\n",
    "print(\"Unique pixel values in band 1:\", unique_band_values)"
   ]
  },
  {
   "cell_type": "code",
   "execution_count": null,
   "metadata": {},
   "outputs": [],
   "source": [
    "for key in reassign_value_dict.keys():\n",
    "    ear_raster_band_1[ear_raster_band_1==key]=reassign_value_dict[key]\n",
    "unique_band_values_2=np.unique(ear_raster_band_1)\n",
    "print(\"Unique pixel values in band 1:\", unique_band_values_2)\n"
   ]
  },
  {
   "cell_type": "code",
   "execution_count": null,
   "metadata": {},
   "outputs": [],
   "source": [
    "height, width = ear_raster_band_1.shape\n",
    "# print(f\"height:{height},width:{width}\")\n",
    "meta = {\n",
    "    'driver': 'GTiff',\n",
    "    'dtype': ear_raster_band_1.dtype,\n",
    "    'count': 1,  # Number of bands\n",
    "    'height': height,\n",
    "    'width': width,\n",
    "    'crs': ear_raster.crs,  # Replace with your desired CRS\n",
    "    'transform': ear_raster.transform\n",
    "}\n",
    "\n",
    "with rasterio.open(output_file_path, 'w', **meta) as dst:\n",
    "    dst.write(ear_raster_band_1, 1)"
   ]
  },
  {
   "attachments": {},
   "cell_type": "markdown",
   "metadata": {},
   "source": [
    "## Hazard resample and classification"
   ]
  },
  {
   "cell_type": "code",
   "execution_count": 3,
   "metadata": {},
   "outputs": [
    {
     "name": "stdout",
     "output_type": "stream",
     "text": [
      "82 82 x y resolution\n"
     ]
    }
   ],
   "source": [
    "import rasterio\n",
    "from rasterio.enums import Resampling\n",
    "\n",
    "hazard_input_path=\"/home/rabina/Projects/sdss_conda/data/gridded_ear_exposure_AUS/output/LC_HAZ_DUMMY_AUS_UTM.tif\"\n",
    "ear_input_path=\"/home/rabina/Projects/sdss_conda/data/gridded_ear_exposure_AUS/output/LC_AUS_UTM.tif\"\n",
    "\n",
    "resampled_haz_output_file_path=\"/home/rabina/Projects/sdss_conda/data/gridded_ear_exposure_AUS/output/LC_HAZ_DUMMY_AUS_UTM_resampled.tif\"\n",
    "resampled_ear_output_file_path=\"/home/rabina/Projects/sdss_conda/data/gridded_ear_exposure_AUS/output/LC_AUS_UTM_resampled.tif\"\n",
    "\n",
    "with rasterio.open(ear_input_path) as ear_raster, rasterio.open(hazard_input_path) as hazard_raster:\n",
    "    final_x_res=int(ear_raster.res[0])\n",
    "    final_y_res=int(ear_raster.res[1])\n",
    "    print(final_x_res,final_y_res,\"x y resolution\")\n",
    "    \n",
    "    resampled_haz_width=int((hazard_raster.width * hazard_raster.res[0]) / final_x_res)\n",
    "    resampled_haz_height=int((hazard_raster.height * hazard_raster.res[1]) / final_y_res)\n",
    "\n",
    "    resampled_ear_width=int((ear_raster.width * ear_raster.res[0]) / final_x_res)\n",
    "    resampled_ear_height=int((ear_raster.height * ear_raster.res[1]) / final_y_res)\n",
    "   \n",
    "    haz_x_origin, haz_y_origin = hazard_raster.transform[2],hazard_raster.transform[5] \n",
    "    ear_x_origin, ear_y_origin = ear_raster.transform[2],ear_raster.transform[5] \n",
    "\n",
    "    # Create a new Affine transformation with the updated pixel dimensions\n",
    "    new_haz_transform = rasterio.transform.Affine(final_x_res,0.0, haz_x_origin,0.0,-final_y_res, haz_y_origin)\n",
    "    new_ear_transform = rasterio.transform.Affine(final_x_res,0.0, ear_x_origin,0.0,-final_y_res, ear_y_origin)\n",
    " \n",
    "    resampled_haz_data = hazard_raster.read(\n",
    "            out_shape=(hazard_raster.count, resampled_haz_height, resampled_haz_width),\n",
    "            resampling=Resampling.nearest\n",
    "        )\n",
    "    resampled_ear_data = ear_raster.read(\n",
    "            out_shape=(ear_raster.count, resampled_ear_height, resampled_ear_width),\n",
    "            resampling=Resampling.nearest\n",
    "        )\n",
    "\n",
    "    resampled_haz_meta = {\n",
    "        'driver': 'GTiff',\n",
    "        'dtype': resampled_haz_data.dtype,\n",
    "        'count': 1,  # Number of bands\n",
    "        'height': resampled_haz_height,\n",
    "        'width': resampled_haz_width,\n",
    "        'crs': hazard_raster.crs,  # Replace with your desired CRS\n",
    "        'transform': new_haz_transform\n",
    "    }\n",
    "    resampled_ear_meta = {\n",
    "        'driver': 'GTiff',\n",
    "        'dtype': resampled_ear_data.dtype,\n",
    "        'count': 1,  # Number of bands\n",
    "        'height': resampled_ear_height,\n",
    "        'width': resampled_ear_width,\n",
    "        'crs': ear_raster.crs,  # Replace with your desired CRS\n",
    "        'transform': new_ear_transform\n",
    "    }\n",
    "    with rasterio.open(resampled_ear_output_file_path, 'w', **resampled_ear_meta) as dst:\n",
    "        dst.write(resampled_ear_data)\n",
    "    with rasterio.open(resampled_haz_output_file_path, 'w', **resampled_haz_meta) as dst:\n",
    "        dst.write(resampled_haz_data)\n",
    "    # print(resampled_data)"
   ]
  },
  {
   "cell_type": "code",
   "execution_count": null,
   "metadata": {},
   "outputs": [],
   "source": [
    "haz_in_path=\"/home/rabina/Projects/sdss_conda/data/gridded_ear_exposure/output/FL_ROU_600_UTM_resampled.tif\"\n",
    "# with rasterio.open(haz_in_path) as src:\n",
    "#     band1 = src.read(1)\n",
    "\n",
    "#     min_value = np.min(band1)\n",
    "#     max_value = np.max(band1)\n",
    "#     unique_value = np.unique(band1)\n",
    "\n",
    "#     print(f\"Minimum value: {min_value}\")\n",
    "#     print(f\"Maximum value: {max_value}\")\n",
    "#     print(f\"Unique value: {unique_value}\")\n",
    "reclassified_hazard=readhaz(haz_in_path,0,2,20)"
   ]
  },
  {
   "attachments": {},
   "cell_type": "markdown",
   "metadata": {},
   "source": [
    "## Making same extent, origin and  number of pixels"
   ]
  },
  {
   "cell_type": "code",
   "execution_count": null,
   "metadata": {},
   "outputs": [],
   "source": [
    "hazard_input_path=\"/home/rabina/Projects/sdss_conda/data/gridded_ear_exposure/output/FL_ROU_600_UTM_resampled_reclassified.tif\"\n",
    "ear_input_path=\"/home/rabina/Projects/sdss_conda/data/gridded_ear_exposure/output/LandCover_ROU_UTM_classified_resampled.tif\"\n",
    "\n",
    "final_haz_out_path=\"/home/rabina/Projects/sdss_conda/data/gridded_ear_exposure/output/FL_ROU_600_UTM_resampled_reclassified_ready.tif\"\n",
    "final_ear_out_path=\"/home/rabina/Projects/sdss_conda/data/gridded_ear_exposure/output/LandCover_ROU_UTM_classified_resampled_ready.tif\""
   ]
  },
  {
   "cell_type": "code",
   "execution_count": null,
   "metadata": {},
   "outputs": [],
   "source": [
    "with rasterio.open(hazard_input_path) as hazard_raster, rasterio.open(ear_input_path) as ear_raster:\n",
    "    hazard_raster_data = hazard_raster.read(1)  # Read the first band of raster 1\n",
    "    ear_raster_data = ear_raster.read(1)  # Read the first band of raster 2\n",
    "    hazard_bounds = hazard_raster.bounds\n",
    "    ear_bounds = ear_raster.bounds\n",
    "    hazard_transform = hazard_raster.transform\n",
    "    ear_transform = ear_raster.transform\n",
    "    hazard_raster_profile = hazard_raster.profile\n",
    "    ear_raster_profile = ear_raster.profile\n",
    "\n",
    "# Calculate intersection bounds\n",
    "intersection_bounds = (\n",
    "    max(ear_bounds.left, hazard_bounds.left),\n",
    "    max(ear_bounds.bottom, hazard_bounds.bottom),\n",
    "    min(ear_bounds.right, hazard_bounds.right),\n",
    "    min(ear_bounds.top, hazard_bounds.top)\n",
    ")\n"
   ]
  },
  {
   "cell_type": "code",
   "execution_count": null,
   "metadata": {},
   "outputs": [],
   "source": [
    "with rasterio.open(hazard_input_path) as hazard_raster, rasterio.open(ear_input_path) as ear_raster:\n",
    "    hazard_raster_data = hazard_raster.read(1)  # Read the first band of raster 1\n",
    "    ear_raster_data = ear_raster.read(1)  # Read the first band of raster 2\n",
    "    hazard_bounds = hazard_raster.bounds\n",
    "    ear_bounds = ear_raster.bounds\n",
    "    hazard_transform = hazard_raster.transform\n",
    "    ear_transform = ear_raster.transform\n",
    "    hazard_raster_profile = hazard_raster.profile\n",
    "    ear_raster_profile = ear_raster.profile\n",
    "\n",
    "# Calculate intersection bounds\n",
    "intersection_bounds = (\n",
    "    max(ear_bounds.left, hazard_bounds.left),\n",
    "    max(ear_bounds.bottom, hazard_bounds.bottom),\n",
    "    min(ear_bounds.right, hazard_bounds.right),\n",
    "    min(ear_bounds.top, hazard_bounds.top)\n",
    ")\n",
    "hazard_window = hazard_raster.window(*intersection_bounds)\n",
    "hazard_row_off = int(hazard_window.row_off)\n",
    "hazard_col_off = int(hazard_window.col_off)\n",
    "hazard_height = int(hazard_window.height)\n",
    "hazard_width = int(hazard_window.width)\n",
    "clipped_hazard_raster = hazard_raster_data[hazard_row_off:(hazard_row_off + hazard_height), hazard_col_off:(hazard_col_off + hazard_width)]\n",
    "\n",
    "ear_window = ear_raster.window(*intersection_bounds)\n",
    "ear_row_off = int(ear_window.row_off)\n",
    "ear_col_off = int(ear_window.col_off)\n",
    "ear_height = int(ear_window.height)\n",
    "ear_width = int(ear_window.width)\n",
    "clipped_ear_raster = ear_raster_data[ear_row_off:(ear_row_off + ear_height), ear_col_off:(ear_col_off + ear_width)]\n",
    "\n",
    "# ear_x_resolution = ear_raster.transform[0]\n",
    "# ear_y_resolution = ear_raster.transform[4]  \n",
    "ear_x_origin = ear_raster.transform[2]+(ear_col_off*final_x_res)\n",
    "ear_y_origin = ear_raster.transform[5]+(ear_row_off*final_y_res)\n",
    "\n",
    "hazard_x_resolution = hazard_raster.transform[0]\n",
    "hazard_y_resolution = hazard_raster.transform[4]  \n",
    "hazard_x_origin = hazard_raster.transform[2]+(hazard_col_off*final_x_res)\n",
    "hazard_y_origin = hazard_raster.transform[5]+(hazard_row_off*final_y_res)\n",
    "\n",
    "print(hazard_width,hazard_height,ear_height,ear_width)\n",
    "print(ear_x_origin,ear_y_origin)\n",
    "print(hazard_x_origin,hazard_y_origin)\n",
    "# final_haz_out_path=\"/home/rabina/Projects/sdss_conda/data/ear_raster/output/FL_600_test_ready.tif\"\n",
    "# final_ear_out_path=\"/home/rabina/Projects/sdss_conda/data/ear_raster/output/lc_romania_test_ready.tif\"\n",
    "\n",
    "\n",
    "new_ear_transform = rasterio.transform.Affine(\n",
    "    final_x_res,0.0, ear_x_origin,0.0,final_y_res, ear_y_origin)\n",
    "new_hazard_transform = rasterio.transform.Affine(\n",
    "    final_x_res,0.0, ear_x_origin,0.0,final_y_res, ear_y_origin)\n",
    "# new_hazard_transform = rasterio.transform.Affine(\n",
    "#     final_x_res,0.0, hazard_x_origin,0.0,final_y_res, hazard_y_origin)\n",
    "ear_meta = {\n",
    "    'driver': 'GTiff',\n",
    "    'dtype': ear_raster_data.dtype,\n",
    "    'count': 1,  # Number of bands\n",
    "    'height': ear_height,\n",
    "    'width': ear_width,\n",
    "    'crs': ear_raster.crs,  # Replace with your desired CRS\n",
    "    'transform': new_ear_transform\n",
    "}\n",
    "hazard_meta = {\n",
    "    'driver': 'GTiff',\n",
    "    'dtype': hazard_raster_data.dtype,\n",
    "    'count': 1,  # Number of bands\n",
    "    'height': hazard_height,\n",
    "    'width': hazard_width,\n",
    "    'crs': hazard_raster.crs,  # Replace with your desired CRS\n",
    "    'transform': new_hazard_transform\n",
    "}\n",
    "\n",
    "with rasterio.open(final_haz_out_path, 'w', **hazard_meta) as dst1:\n",
    "    dst1.write(clipped_hazard_raster, 1)\n",
    "with rasterio.open(final_ear_out_path, 'w', **ear_meta) as dst1:\n",
    "    dst1.write(clipped_ear_raster, 1)\n",
    "\n",
    "\n"
   ]
  },
  {
   "cell_type": "code",
   "execution_count": null,
   "metadata": {},
   "outputs": [],
   "source": [
    "\n",
    "# hazard_window = hazard_raster.window(*intersection_bounds)\n",
    "# hazard_row_off = int(hazard_window.row_off)\n",
    "# hazard_col_off = int(hazard_window.col_off)\n",
    "# hazard_height = int(hazard_window.height)\n",
    "# hazard_width = int(hazard_window.width)\n",
    "# clipped_hazard_raster = hazard_raster_data[hazard_row_off:(hazard_row_off + hazard_height), hazard_col_off:(hazard_col_off + hazard_width)]\n",
    "\n",
    "# ear_window = ear_raster.window(*intersection_bounds)\n",
    "# ear_row_off = int(ear_window.row_off)\n",
    "# ear_col_off = int(ear_window.col_off)\n",
    "# ear_height = int(ear_window.height)\n",
    "# ear_width = int(ear_window.width)\n",
    "# clipped_ear_raster = ear_raster_data[ear_row_off:(ear_row_off + ear_height), ear_col_off:(ear_col_off + ear_width)]\n",
    "\n",
    "# # ear_x_resolution = ear_raster.transform[0]\n",
    "# # ear_y_resolution = ear_raster.transform[4]  \n",
    "# ear_x_origin = ear_raster.transform[2]+(ear_col_off*final_x_res)\n",
    "# ear_y_origin = ear_raster.transform[5]+(ear_row_off*final_y_res)\n",
    "\n",
    "# hazard_x_resolution = hazard_raster.transform[0]\n",
    "# hazard_y_resolution = hazard_raster.transform[4]  \n",
    "# hazard_x_origin = hazard_raster.transform[2]+(hazard_col_off*final_x_res)\n",
    "# hazard_y_origin = hazard_raster.transform[5]+(hazard_row_off*final_y_res)\n",
    "\n",
    "# print(hazard_width,hazard_height,ear_height,ear_width)\n",
    "# print(ear_x_origin,ear_y_origin)\n",
    "# print(hazard_x_origin,hazard_y_origin)\n",
    "\n",
    "# # 8147 6263 6263 8147\n",
    "# # 100.0 -100.0 411974.38883173274 5402846.243662003\n",
    "# # 100.0 -100.0 412041.0951211243 5402869.7196161095"
   ]
  },
  {
   "cell_type": "code",
   "execution_count": null,
   "metadata": {},
   "outputs": [],
   "source": [
    "# # final_haz_out_path=\"/home/rabina/Projects/sdss_conda/data/ear_raster/output/FL_600_test_ready.tif\"\n",
    "# # final_ear_out_path=\"/home/rabina/Projects/sdss_conda/data/ear_raster/output/lc_romania_test_ready.tif\"\n",
    "\n",
    "\n",
    "# new_ear_transform = rasterio.transform.Affine(\n",
    "#     final_x_res,0.0, ear_x_origin,0.0,final_y_res, ear_y_origin)\n",
    "# new_hazard_transform = rasterio.transform.Affine(\n",
    "#     final_x_res,0.0, ear_x_origin,0.0,final_y_res, ear_y_origin)\n",
    "# # new_hazard_transform = rasterio.transform.Affine(\n",
    "# #     final_x_res,0.0, hazard_x_origin,0.0,final_y_res, hazard_y_origin)\n",
    "# ear_meta = {\n",
    "#     'driver': 'GTiff',\n",
    "#     'dtype': ear_raster_data.dtype,\n",
    "#     'count': 1,  # Number of bands\n",
    "#     'height': ear_height,\n",
    "#     'width': ear_width,\n",
    "#     'crs': ear_raster.crs,  # Replace with your desired CRS\n",
    "#     'transform': new_ear_transform\n",
    "# }\n",
    "# hazard_meta = {\n",
    "#     'driver': 'GTiff',\n",
    "#     'dtype': hazard_raster_data.dtype,\n",
    "#     'count': 1,  # Number of bands\n",
    "#     'height': hazard_height,\n",
    "#     'width': hazard_width,\n",
    "#     'crs': hazard_raster.crs,  # Replace with your desired CRS\n",
    "#     'transform': new_hazard_transform\n",
    "# }\n",
    "\n",
    "# with rasterio.open(final_haz_out_path, 'w', **hazard_meta) as dst1:\n",
    "#     dst1.write(clipped_hazard_raster, 1)\n",
    "# with rasterio.open(final_ear_out_path, 'w', **ear_meta) as dst1:\n",
    "#     dst1.write(clipped_ear_raster, 1)\n"
   ]
  },
  {
   "attachments": {},
   "cell_type": "markdown",
   "metadata": {},
   "source": [
    "## Combine haz and ear raster\n"
   ]
  },
  {
   "cell_type": "code",
   "execution_count": null,
   "metadata": {},
   "outputs": [],
   "source": [
    "hazard_input_path=\"/home/rabina/Projects/sdss_conda/data/gridded_ear_exposure/output/FL_ROU_600_UTM_resampled_reclassified_ready.tif\"\n",
    "ear_input_path=\"/home/rabina/Projects/sdss_conda/data/gridded_ear_exposure/output/LandCover_ROU_UTM_classified_resampled_ready.tif\"\n",
    "haz_ear_overlay_path=\"/home/rabina/Projects/sdss_conda/data/gridded_ear_exposure/output/ear_haz_overlay.tif\"\n"
   ]
  },
  {
   "cell_type": "code",
   "execution_count": null,
   "metadata": {},
   "outputs": [],
   "source": [
    "with rasterio.open(hazard_input_path) as hazard_raster, rasterio.open(ear_input_path) as ear_raster:\n",
    "    hazard_raster_data = hazard_raster.read(1)  # Read the first band of raster 1\n",
    "    ear_raster_data = ear_raster.read(1) \n",
    "    # profile = hazard_raster.profile\n",
    "    profile = hazard_raster.profile\n",
    "\n",
    "# Update the profile to indicate the number of bands in the output raster\n",
    "# profile['count']=2\n",
    "# print(profile)\n",
    "profile.update(count=2)\n",
    "\n",
    "with rasterio.open(haz_ear_overlay_path, 'w', **profile) as dst:\n",
    "    dst.write(hazard_raster_data, 1)  # Write the first band from the first raster\n",
    "    dst.write(ear_raster_data, 2)\n",
    "    print(dst.profile)"
   ]
  },
  {
   "attachments": {},
   "cell_type": "markdown",
   "metadata": {},
   "source": [
    "## Exposure Calculation"
   ]
  },
  {
   "cell_type": "code",
   "execution_count": null,
   "metadata": {},
   "outputs": [],
   "source": [
    "with rasterio.open(haz_ear_overlay_path) as ear_hazard_raster:\n",
    "    # print(ear_hazard_raster.count)\n",
    "    hazard_data = ear_hazard_raster.read(1)\n",
    "    ear_data = ear_hazard_raster.read(2) \n",
    "unique_ear_pixel_values=np.unique(ear_data)\n",
    "unique_hazard_pixel_values=np.unique(hazard_data)\n",
    "\n",
    "print(unique_ear_pixel_values)\n",
    "print(unique_hazard_pixel_values)\n",
    "\n",
    "# Create a DataFrame to store the pivot table\n",
    "pivot_data = pd.DataFrame(index=unique_ear_pixel_values, columns=unique_hazard_pixel_values, dtype=int)\n",
    "\n",
    "# Fill the pivot table with counts\n",
    "for hazard_value in unique_hazard_pixel_values:\n",
    "    for ear_value in unique_ear_pixel_values:\n",
    "        count = np.sum((hazard_data == hazard_value) & (ear_data == ear_value))\n",
    "        pivot_data.at[ear_value, hazard_value] = count\n",
    "\n",
    "# Display the pivot table\n",
    "print(pivot_data)\n"
   ]
  },
  {
   "cell_type": "markdown",
   "metadata": {},
   "source": [
    "Romania\n",
    "haz=30.7 MB\n",
    "ear=4.3 MB\n",
    "\n",
    "ONLY EXPOSURE CALCULATION TIME= 8.7s"
   ]
  },
  {
   "attachments": {},
   "cell_type": "markdown",
   "metadata": {},
   "source": [
    "## Rough\n"
   ]
  },
  {
   "cell_type": "code",
   "execution_count": null,
   "metadata": {},
   "outputs": [],
   "source": [
    "# haz_ear_overlay_path=\"/Users/rabina/Projects/sdss/sdss_conda/data/ear_raster/input/lc_romania_ready.tif\"\n",
    "# abc=rasterio.open(haz_ear_overlay_path)\n",
    "# hazard_data = abc.read(1)\n",
    "# unique_ear_pixel_values=np.unique(hazard_data)\n",
    "# print(abc.count)\n",
    "# print(list(unique_ear_pixel_values))\n",
    "    # print(ear_hazard_raster.descriptions)\n",
    "import numpy as np\n",
    "np.unique(clipped_ear_raster) "
   ]
  }
 ],
 "metadata": {
  "kernelspec": {
   "display_name": "sdss",
   "language": "python",
   "name": "python3"
  },
  "language_info": {
   "codemirror_mode": {
    "name": "ipython",
    "version": 3
   },
   "file_extension": ".py",
   "mimetype": "text/x-python",
   "name": "python",
   "nbconvert_exporter": "python",
   "pygments_lexer": "ipython3",
   "version": "3.10.0"
  },
  "orig_nbformat": 4,
  "vscode": {
   "interpreter": {
    "hash": "26e4f51c6d25efe6bc827fc2aa628c8ffa87190d3620e0c99d162e22a10e673c"
   }
  }
 },
 "nbformat": 4,
 "nbformat_minor": 2
}
